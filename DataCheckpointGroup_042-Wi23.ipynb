{
 "cells": [
  {
   "cell_type": "markdown",
   "metadata": {},
   "source": [
    "# COGS 108 - Data Checkpoint"
   ]
  },
  {
   "cell_type": "markdown",
   "metadata": {},
   "source": [
    "# Names\n",
    "\n",
    "- Amogh Manjunath\n",
    "- Govinda Sahoo\n",
    "- Jonathan Ly\n",
    "- Rohan Sreedhar"
   ]
  },
  {
   "cell_type": "markdown",
   "metadata": {},
   "source": [
    "<a id='research_question'></a>\n",
    "# Research Question"
   ]
  },
  {
   "cell_type": "markdown",
   "metadata": {},
   "source": [
    "What metrics are correlated with passenger/customer satisfaction on airlines? How could different types of delays impact customer satisfaction?"
   ]
  },
  {
   "cell_type": "markdown",
   "metadata": {},
   "source": [
    "# Dataset(s)"
   ]
  },
  {
   "cell_type": "markdown",
   "metadata": {},
   "source": [
    "- **Name of dataset:** US Airline Passenger Satisfaction\n",
    "\n",
    "- **Link to dataset:** https://www.kaggle.com/datasets/teejmahal20/airline-passenger-satisfaction\n",
    "\n",
    "- **Number of observations:** 129,880\n",
    "\n",
    "This dataset comes from a 2015 survey on arriving passengers of full-service carriers at an airport, asking them to provide demographic data as well as answers on their loyalty, reason for travel, and arrival and departure delays. It also asked the passengers to rate their satisfaction with various features from 1-5, with 5 being the highest and 0 being \"not applicable.\" This dataset was also used in the referenced article by Noviantoro and Huang.\n",
    "\n",
    "\n",
    "- **Name of dataset:** 2015 Flight Delays and Cancellation\n",
    "\n",
    "- **Link to dataset:** https://www.kaggle.com/datasets/usdot/flight-delays?select=flights.csv\n",
    "\n",
    "- **Number of observations:** 5,819,079. However, only a subset of the dataset will be used.\n",
    "\n",
    "This dataset is provided by the US Department of Transportation, and it contains information on every flight in the United States in the Year 2015. The information collected  includes arrival and departure delay times, as well as reasons for them.\n",
    "\n",
    "- **Relation between datasets**\n",
    "\n",
    "The first dataset has many observations to work with, and contains 20 metrics to compare. The second dataset, from the US Department of Transportation, has information on delays and the reasons for the delay. Analysis on the second dataset should reveal which reason for a delay causes the longest delays. Analysis on the first dataset may reveal how delays impact customer satisfaction. Putting them together can provide information on how different types of delays impact customer satisfaction."
   ]
  },
  {
   "cell_type": "markdown",
   "metadata": {},
   "source": [
    "# Setup"
   ]
  },
  {
   "cell_type": "code",
   "execution_count": 1,
   "metadata": {},
   "outputs": [],
   "source": [
    "## YOUR CODE HERE"
   ]
  },
  {
   "cell_type": "markdown",
   "metadata": {},
   "source": [
    "# Data Cleaning"
   ]
  },
  {
   "cell_type": "markdown",
   "metadata": {},
   "source": [
    "Describe your data cleaning steps here."
   ]
  },
  {
   "cell_type": "code",
   "execution_count": 5,
   "metadata": {},
   "outputs": [
    {
     "name": "stdout",
     "output_type": "stream",
     "text": [
      "Requirement already satisfied: matplotlib in /Users/amoghmanjunath/Library/Python/3.9/lib/python/site-packages (3.7.1)\n",
      "Requirement already satisfied: fonttools>=4.22.0 in /Users/amoghmanjunath/Library/Python/3.9/lib/python/site-packages (from matplotlib) (4.38.0)\n",
      "Requirement already satisfied: cycler>=0.10 in /Users/amoghmanjunath/Library/Python/3.9/lib/python/site-packages (from matplotlib) (0.11.0)\n",
      "Requirement already satisfied: contourpy>=1.0.1 in /Users/amoghmanjunath/Library/Python/3.9/lib/python/site-packages (from matplotlib) (1.0.7)\n",
      "Requirement already satisfied: importlib-resources>=3.2.0 in /Users/amoghmanjunath/Library/Python/3.9/lib/python/site-packages (from matplotlib) (5.12.0)\n",
      "Requirement already satisfied: python-dateutil>=2.7 in /usr/local/lib/python3.9/site-packages (from matplotlib) (2.8.2)\n",
      "Requirement already satisfied: numpy>=1.20 in /usr/local/lib/python3.9/site-packages (from matplotlib) (1.21.1)\n",
      "Requirement already satisfied: packaging>=20.0 in /Users/amoghmanjunath/Library/Python/3.9/lib/python/site-packages (from matplotlib) (23.0)\n",
      "Requirement already satisfied: pillow>=6.2.0 in /Users/amoghmanjunath/Library/Python/3.9/lib/python/site-packages (from matplotlib) (9.4.0)\n",
      "Requirement already satisfied: kiwisolver>=1.0.1 in /Users/amoghmanjunath/Library/Python/3.9/lib/python/site-packages (from matplotlib) (1.4.4)\n",
      "Requirement already satisfied: pyparsing>=2.3.1 in /Users/amoghmanjunath/Library/Python/3.9/lib/python/site-packages (from matplotlib) (3.0.9)\n",
      "Requirement already satisfied: zipp>=3.1.0 in /Users/amoghmanjunath/Library/Python/3.9/lib/python/site-packages (from importlib-resources>=3.2.0->matplotlib) (3.15.0)\n",
      "Requirement already satisfied: six>=1.5 in /usr/local/lib/python3.9/site-packages (from python-dateutil>=2.7->matplotlib) (1.16.0)\n",
      "\n",
      "\u001b[1m[\u001b[0m\u001b[34;49mnotice\u001b[0m\u001b[1;39;49m]\u001b[0m\u001b[39;49m A new release of pip available: \u001b[0m\u001b[31;49m22.2.2\u001b[0m\u001b[39;49m -> \u001b[0m\u001b[32;49m23.0.1\u001b[0m\n",
      "\u001b[1m[\u001b[0m\u001b[34;49mnotice\u001b[0m\u001b[1;39;49m]\u001b[0m\u001b[39;49m To update, run: \u001b[0m\u001b[32;49mpython3.9 -m pip install --upgrade pip\u001b[0m\n",
      "Requirement already satisfied: openpyxl in /Users/amoghmanjunath/Library/Python/3.9/lib/python/site-packages (3.1.1)\n",
      "Requirement already satisfied: et-xmlfile in /Users/amoghmanjunath/Library/Python/3.9/lib/python/site-packages (from openpyxl) (1.1.0)\n",
      "\n",
      "\u001b[1m[\u001b[0m\u001b[34;49mnotice\u001b[0m\u001b[1;39;49m]\u001b[0m\u001b[39;49m A new release of pip available: \u001b[0m\u001b[31;49m22.2.2\u001b[0m\u001b[39;49m -> \u001b[0m\u001b[32;49m23.0.1\u001b[0m\n",
      "\u001b[1m[\u001b[0m\u001b[34;49mnotice\u001b[0m\u001b[1;39;49m]\u001b[0m\u001b[39;49m To update, run: \u001b[0m\u001b[32;49mpython3.9 -m pip install --upgrade pip\u001b[0m\n"
     ]
    }
   ],
   "source": [
    "#install some modules\n",
    "import sys  \n",
    "!{sys.executable} -m pip install --user matplotlib\n",
    "!{sys.executable} -m pip install --user openpyxl"
   ]
  },
  {
   "cell_type": "markdown",
   "metadata": {},
   "source": [
    "First, we import the necessary modules to deal with the data we are about to use. \n",
    "Then we import the datasets we will use.  "
   ]
  },
  {
   "cell_type": "code",
   "execution_count": 7,
   "metadata": {},
   "outputs": [],
   "source": [
    "import numpy as np\n",
    "import matplotlib.pyplot as plt\n",
    "import pandas as pd\n",
    "\n",
    "satData = pd.read_excel(\"satisfaction.xlsx\")\n",
    "delayData = pd.read_csv(\"delays.csv\")"
   ]
  },
  {
   "cell_type": "markdown",
   "metadata": {},
   "source": [
    "Let's look at the details of the 'Satisfaction' dataset:"
   ]
  },
  {
   "cell_type": "code",
   "execution_count": 8,
   "metadata": {},
   "outputs": [
    {
     "name": "stdout",
     "output_type": "stream",
     "text": [
      "<class 'pandas.core.frame.DataFrame'>\n",
      "RangeIndex: 129880 entries, 0 to 129879\n",
      "Data columns (total 24 columns):\n",
      " #   Column                             Non-Null Count   Dtype  \n",
      "---  ------                             --------------   -----  \n",
      " 0   id                                 129880 non-null  int64  \n",
      " 1   satisfaction_v2                    129880 non-null  object \n",
      " 2   Gender                             129880 non-null  object \n",
      " 3   Customer Type                      129880 non-null  object \n",
      " 4   Age                                129880 non-null  int64  \n",
      " 5   Type of Travel                     129880 non-null  object \n",
      " 6   Class                              129880 non-null  object \n",
      " 7   Flight Distance                    129880 non-null  int64  \n",
      " 8   Seat comfort                       129880 non-null  int64  \n",
      " 9   Departure/Arrival time convenient  129880 non-null  int64  \n",
      " 10  Food and drink                     129880 non-null  int64  \n",
      " 11  Gate location                      129880 non-null  int64  \n",
      " 12  Inflight wifi service              129880 non-null  int64  \n",
      " 13  Inflight entertainment             129880 non-null  int64  \n",
      " 14  Online support                     129880 non-null  int64  \n",
      " 15  Ease of Online booking             129880 non-null  int64  \n",
      " 16  On-board service                   129880 non-null  int64  \n",
      " 17  Leg room service                   129880 non-null  int64  \n",
      " 18  Baggage handling                   129880 non-null  int64  \n",
      " 19  Checkin service                    129880 non-null  int64  \n",
      " 20  Cleanliness                        129880 non-null  int64  \n",
      " 21  Online boarding                    129880 non-null  int64  \n",
      " 22  Departure Delay in Minutes         129880 non-null  int64  \n",
      " 23  Arrival Delay in Minutes           129487 non-null  float64\n",
      "dtypes: float64(1), int64(18), object(5)\n",
      "memory usage: 23.8+ MB\n"
     ]
    }
   ],
   "source": [
    "satData.info()"
   ]
  },
  {
   "cell_type": "markdown",
   "metadata": {},
   "source": [
    "We don't need the first column, 'id', since this column will have no correlation to what we are trying to discover. "
   ]
  },
  {
   "cell_type": "code",
   "execution_count": 9,
   "metadata": {},
   "outputs": [],
   "source": [
    "#drop first column\n",
    "satData.drop(columns=satData.columns[0], axis=1, inplace=True)"
   ]
  },
  {
   "cell_type": "markdown",
   "metadata": {},
   "source": [
    "A bunch of the columns contain categorical data, for example, given as integers 0 through 5. These are listed as 'int64' types, but we really want the data to be of the type 'category' "
   ]
  },
  {
   "cell_type": "code",
   "execution_count": 10,
   "metadata": {},
   "outputs": [
    {
     "name": "stdout",
     "output_type": "stream",
     "text": [
      "<class 'pandas.core.frame.DataFrame'>\n",
      "RangeIndex: 129880 entries, 0 to 129879\n",
      "Data columns (total 23 columns):\n",
      " #   Column                             Non-Null Count   Dtype   \n",
      "---  ------                             --------------   -----   \n",
      " 0   satisfaction_v2                    129880 non-null  category\n",
      " 1   Gender                             129880 non-null  category\n",
      " 2   Customer Type                      129880 non-null  category\n",
      " 3   Age                                129880 non-null  int64   \n",
      " 4   Type of Travel                     129880 non-null  category\n",
      " 5   Class                              129880 non-null  category\n",
      " 6   Flight Distance                    129880 non-null  int64   \n",
      " 7   Seat comfort                       129880 non-null  category\n",
      " 8   Departure/Arrival time convenient  129880 non-null  category\n",
      " 9   Food and drink                     129880 non-null  category\n",
      " 10  Gate location                      129880 non-null  category\n",
      " 11  Inflight wifi service              129880 non-null  category\n",
      " 12  Inflight entertainment             129880 non-null  category\n",
      " 13  Online support                     129880 non-null  category\n",
      " 14  Ease of Online booking             129880 non-null  category\n",
      " 15  On-board service                   129880 non-null  category\n",
      " 16  Leg room service                   129880 non-null  category\n",
      " 17  Baggage handling                   129880 non-null  category\n",
      " 18  Checkin service                    129880 non-null  category\n",
      " 19  Cleanliness                        129880 non-null  category\n",
      " 20  Online boarding                    129880 non-null  category\n",
      " 21  Departure Delay in Minutes         129880 non-null  int64   \n",
      " 22  Arrival Delay in Minutes           129487 non-null  float64 \n",
      "dtypes: category(19), float64(1), int64(3)\n",
      "memory usage: 6.3 MB\n"
     ]
    }
   ],
   "source": [
    "toCategory = [0, 1, 2, 4, 5] + list(range(7, 21))\n",
    "satData.iloc[:,toCategory] = satData.iloc[:,toCategory].astype('category')\n",
    "satData.info()"
   ]
  },
  {
   "cell_type": "markdown",
   "metadata": {},
   "source": [
    "We've cleaned up the data to eliminate unnecessary columns and change any incorrect datatypes to more accurate ones. \n",
    "Now we look at the delayData info. "
   ]
  },
  {
   "cell_type": "code",
   "execution_count": 17,
   "metadata": {},
   "outputs": [
    {
     "name": "stdout",
     "output_type": "stream",
     "text": [
      "<class 'pandas.core.frame.DataFrame'>\n",
      "RangeIndex: 5819079 entries, 0 to 5819078\n",
      "Data columns (total 7 columns):\n",
      " #   Column               Dtype  \n",
      "---  ------               -----  \n",
      " 0   DEPARTURE_DELAY      float64\n",
      " 1   ARRIVAL_DELAY        float64\n",
      " 2   AIR_SYSTEM_DELAY     float64\n",
      " 3   SECURITY_DELAY       float64\n",
      " 4   AIRLINE_DELAY        float64\n",
      " 5   LATE_AIRCRAFT_DELAY  float64\n",
      " 6   WEATHER_DELAY        float64\n",
      "dtypes: float64(7)\n",
      "memory usage: 310.8 MB\n"
     ]
    }
   ],
   "source": [
    "delayData.info()"
   ]
  },
  {
   "cell_type": "markdown",
   "metadata": {},
   "source": [
    "We don't need most of these columns. We only need the ones pertaining to delays. "
   ]
  },
  {
   "cell_type": "code",
   "execution_count": 16,
   "metadata": {},
   "outputs": [],
   "source": [
    "delayData.drop(columns=delayData.columns[0:11], axis=1, inplace=True)\n",
    "delayData.drop(columns=delayData.columns[1:11], axis=1, inplace=True)\n",
    "delayData.drop(columns=delayData.columns[2:5], axis=1, inplace=True)"
   ]
  },
  {
   "cell_type": "markdown",
   "metadata": {},
   "source": [
    "We also want to remove any observations where the departure delays and arrival delays are both negative or 0. This likely indicates that the flight departed and arrived early or on-time. \n",
    "\n",
    "We'll also delete observations where all the contributing factors for delays are NaN."
   ]
  },
  {
   "cell_type": "code",
   "execution_count": 18,
   "metadata": {},
   "outputs": [],
   "source": [
    "delayData = delayData.drop(delayData.index[(delayData['DEPARTURE_DELAY'] <= 0) & (delayData['ARRIVAL_DELAY'] <= 0)])"
   ]
  },
  {
   "cell_type": "code",
   "execution_count": 20,
   "metadata": {},
   "outputs": [
    {
     "name": "stdout",
     "output_type": "stream",
     "text": [
      "<class 'pandas.core.frame.DataFrame'>\n",
      "Int64Index: 2798869 entries, 2 to 5819078\n",
      "Data columns (total 7 columns):\n",
      " #   Column               Dtype  \n",
      "---  ------               -----  \n",
      " 0   DEPARTURE_DELAY      float64\n",
      " 1   ARRIVAL_DELAY        float64\n",
      " 2   AIR_SYSTEM_DELAY     float64\n",
      " 3   SECURITY_DELAY       float64\n",
      " 4   AIRLINE_DELAY        float64\n",
      " 5   LATE_AIRCRAFT_DELAY  float64\n",
      " 6   WEATHER_DELAY        float64\n",
      "dtypes: float64(7)\n",
      "memory usage: 170.8 MB\n"
     ]
    }
   ],
   "source": [
    "delayData = delayData.dropna(subset=['AIR_SYSTEM_DELAY', 'SECURITY_DELAY', 'AIRLINE_DELAY', 'LATE_AIRCRAFT_DELAY', 'WEATHER_DELAY'])"
   ]
  }
 ],
 "metadata": {
  "kernelspec": {
   "display_name": "Python 3 (ipykernel)",
   "language": "python",
   "name": "python3"
  },
  "language_info": {
   "codemirror_mode": {
    "name": "ipython",
    "version": 3
   },
   "file_extension": ".py",
   "mimetype": "text/x-python",
   "name": "python",
   "nbconvert_exporter": "python",
   "pygments_lexer": "ipython3",
   "version": "3.8.5"
  },
  "vscode": {
   "interpreter": {
    "hash": "397704579725e15f5c7cb49fe5f0341eb7531c82d19f2c29d197e8b64ab5776b"
   }
  }
 },
 "nbformat": 4,
 "nbformat_minor": 2
}
