{
 "cells": [
  {
   "cell_type": "markdown",
   "metadata": {},
   "source": [
    "# COGS 108 - Final Project Proposal"
   ]
  },
  {
   "cell_type": "markdown",
   "metadata": {},
   "source": [
    "# Names\n",
    "\n",
    "- Amogh Manjunath\n",
    "- Govinda Sahoo\n",
    "- Jonathan Ly\n",
    "- Rohan Sreedhar"
   ]
  },
  {
   "cell_type": "markdown",
   "metadata": {},
   "source": [
    "# Research Question"
   ]
  },
  {
   "cell_type": "markdown",
   "metadata": {},
   "source": [
    "What metrics are correlated with passenger/customer satisfaction on airlines? How could different types of delays impact customer satisfaction?"
   ]
  },
  {
   "cell_type": "markdown",
   "metadata": {},
   "source": [
    "## Background and Prior Work"
   ]
  },
  {
   "cell_type": "markdown",
   "metadata": {},
   "source": [
    "With countless existing airlines and a continuous flow of consumers needing flights, a multitude of benefits and incentives are offered to build and maintain customer loyalty. The research question we posed has the potential of suggesting what airlines can do to elevate the experiences of their customers. In the perspective of customers, this project could advise what factors go into picking the right airline. \n",
    "\n",
    "Having all been on an airplane and having our own individual experiences with flying, we were curious as to what general factors play in the eyes of others, as well as our own. Modern times have called that airlines offering higher quality services will lead the market, which in turn, changes airlines from transport to hospitality and services [^1]. Research done by Noviantoro and Huang suggested that service attributes consisting of online/mobile boarding, inflight wi-fi services, baggage handling, and inflight entertainment are the biggest contributing factors to an airline’s customer satisfaction. This research utilized different algorithms to examine airline passengers’ dataset and bring to light what services airlines could improve upon [^1]. \n",
    "\n",
    "Another interesting perspective that is important to dive into was how research could be conducted. “Although previous studies conclude that data mining and machine learning techniques can be successfully used for prediction of customer satisfaction, there is not an overall best algorithm for dealing with customer satisfaction problems” [^2]. Looking from the perspective of an airline, we want to most effectively look at how customers make their decisions and what factors affect that. In doing so, we have to evaluate what models and methods we need to take into account. While machine learning techniques such as feature selection may be effective in how they “select a small subset of appropriate features without losing any prediction against all datasets” [^1], other techniques such as the use of ensemble of regression models have “emerged to exploit the different behavior of individual techniques and reduce prediction errors” [^2]. Keeping this in mind, we can examine other datasets pertaining to airline passenger satisfactions [^3]. \n",
    "\n",
    "\n",
    "\n",
    "  \n",
    "\n",
    "References (include links):\n",
    "[^1]1.https://reader.elsevier.com/reader/sd/pii/S2210539521001097?token=B9F26B8D31A848E558F3A753659D9E84707E2208030243E55EE89B5F2C8B073547DB6EFAE095FE7C7A3F5DD899BB984B&originRegion=us-east-1&originCreation=20230304231518\n",
    "[^2].https://www.researchgate.net/publication/336603226_Predicting_Airline_Customer_Satisfaction_using_k-nn_Ensemble_Regression_Models\n",
    "[^3]. https://www.kaggle.com/datasets/teejmahal20/airline-passenger-satisfaction\n"
   ]
  },
  {
   "cell_type": "markdown",
   "metadata": {},
   "source": [
    "# Hypothesis\n"
   ]
  },
  {
   "cell_type": "markdown",
   "metadata": {},
   "source": [
    "Our hypothesis prediction for our project is that certain factors related to the onboard experience play less of a crucial role in the determination of an airline's rating compared to factors involved with boarding and deboarding experience. Passengers are more concerned with arriving at their destination on time and with as little hassle as possible."
   ]
  },
  {
   "cell_type": "markdown",
   "metadata": {},
   "source": [
    "# Data"
   ]
  },
  {
   "cell_type": "markdown",
   "metadata": {},
   "source": [
    "An ideal dataset to give us insight into our hypothesis would be one with data containing variables pertaining to airline satisfaction and flight delays. Examples of these would be: \n",
    "- positive or negative experience\n",
    "- delay time \n",
    "- seat section \n",
    "- hygiene\n",
    "- open vs assigned seating\n",
    "- short vs long haul flight\n",
    "\n",
    "and others.\n",
    "\n",
    "This dataset would ideally have enough data to encompass a large chunk of the total number of flights in a given timeframe. It should also be collected in a way that eliminates any bias in the data. This could be achieved by getting data from different airports, different airlines, etc. \n",
    "\n",
    "A good number of observations would be somewhere in the hundreds of thousands. \n",
    "\n",
    "The data should be in a format that provides us with satisfaction rates for each observation, as well as the travel factors pertaining to each observation. In essence, we are looking for a dataset that more or less fits in a table. \n",
    "\n"
   ]
  },
  {
   "cell_type": "markdown",
   "metadata": {},
   "source": [
    "# Ethics & Privacy"
   ]
  },
  {
   "cell_type": "markdown",
   "metadata": {},
   "source": [
    "Our team acknowledges the unethical uses of data and how it could be harmful. Our primary source of data is from Kaggle which is widely used due to its open-source format. However, while our data is sourced from Kaggle, we have to address that it lacks any source, making us more wary of potential biases and communicated analyses. The dataset is also very large, consisting of 129,880 passengers across 14 airline services making it harder to analyze. Another problem posed is that this is a voluntary survey, meaning that certain answers are not as concrete and accurate. However, credible research has utilized and acknowledged this dataset, which is consistent with our research. In doing so, certain methods utilized across different researches have proven to gain accurate results while minimizing and excluding empty or undesirable data. "
   ]
  },
  {
   "cell_type": "markdown",
   "metadata": {},
   "source": [
    "# Team Expectations "
   ]
  },
  {
   "cell_type": "markdown",
   "metadata": {},
   "source": [
    "The group's expectations for successful completion of the project are that everyone puts in equal effort towards planning and completing the project. Everyone completes their assignments on time. The group plans to communicate regularly through Messenger and conduct weekly meetings to check the project's status and collaborate on ideas moving forward.In case conflicts arise, the group plans to communicate respectfully and approach conflicts with an open mind, encouraging everyone to express their opinions and work collaboratively to find solutions. "
   ]
  },
  {
   "cell_type": "markdown",
   "metadata": {},
   "source": [
    "# Project Timeline Proposal"
   ]
  },
  {
   "cell_type": "markdown",
   "metadata": {},
   "source": [
    "Specify your team's specific project timeline. An example timeline has been provided. Changes the dates, times, names, and details to fit your group's plan.\n",
    "\n",
    "If you think you will need any special resources or training outside what we have covered in COGS 108 to solve your problem, then your proposal should state these clearly. For example, if you have selected a problem that involves implementing multiple neural networks, please state this so we can make sure you know what you’re doing and so we can point you to resources you will need to implement your project. Note that you are not required to use outside methods.\n",
    "\n",
    "\n",
    "\n",
    "| Meeting Date  | Meeting Time| Completed Before Meeting  | Discuss at Meeting |\n",
    "|---|---|---|---|\n",
    "| 2/23  |  6 PM | Read and think about potential research topics  | Determine what topics are viable and of best interest| \n",
    "| 3/2  |  6 PM |  Finalize topic | Allocate work and decide, find datasets, find background work | \n",
    "| 3/7  | 6 PM  | Brainstorm wrangling and possible analytical approaches  | Finalize analytical approaches; Assign group members to lead each specific part   |\n",
    "| 3/9  | 6 PM  | Import & Wrangle Data | Review |\n",
    "| 3/14  | 6 PM  | Finalize wrangling; Begin Analysis | Discuss findings |\n",
    "| 3/16  | 6 PM  | Complete analysis and writeup | Discuss/edit full project |\n"
   ]
  },
  {
   "cell_type": "code",
   "execution_count": null,
   "metadata": {},
   "outputs": [],
   "source": []
  }
 ],
 "metadata": {
  "kernelspec": {
   "display_name": "Python 3 (ipykernel)",
   "language": "python",
   "name": "python3"
  },
  "language_info": {
   "codemirror_mode": {
    "name": "ipython",
    "version": 3
   },
   "file_extension": ".py",
   "mimetype": "text/x-python",
   "name": "python",
   "nbconvert_exporter": "python",
   "pygments_lexer": "ipython3",
   "version": "3.8.5"
  },
  "vscode": {
   "interpreter": {
    "hash": "aee8b7b246df8f9039afb4144a1f6fd8d2ca17a180786b69acc140d282b71a49"
   }
  }
 },
 "nbformat": 4,
 "nbformat_minor": 2
}
