{
 "cells": [
  {
   "cell_type": "markdown",
   "metadata": {},
   "source": [
    "# COGS 108 - EDA Checkpoint"
   ]
  },
  {
   "cell_type": "markdown",
   "metadata": {},
   "source": [
    "# Names\n",
    "\n",
    "- Amogh Manjunath\n",
    "- Govinda Sahoo\n",
    "- Jonathan Ly\n",
    "- Rohan Sreedhar"
   ]
  },
  {
   "cell_type": "markdown",
   "metadata": {},
   "source": [
    "<a id='research_question'></a>\n",
    "# Research Question"
   ]
  },
  {
   "cell_type": "markdown",
   "metadata": {},
   "source": [
    "What metrics are correlated with passenger/customer satisfaction on airlines? How could different types of delays impact customer satisfaction?"
   ]
  },
  {
   "cell_type": "markdown",
   "metadata": {},
   "source": [
    "# Setup"
   ]
  },
  {
   "cell_type": "code",
   "execution_count": 1,
   "metadata": {},
   "outputs": [],
   "source": [
    "#import necessary modules\n",
    "import numpy as np\n",
    "import matplotlib.pyplot as plt\n",
    "import pandas as pd\n",
    "import sys  \n",
    "from sklearn.linear_model import LinearRegression"
   ]
  },
  {
   "cell_type": "markdown",
   "metadata": {},
   "source": [
    "# Data Cleaning"
   ]
  },
  {
   "cell_type": "markdown",
   "metadata": {},
   "source": [
    "Open the two datafiles we are using and create dataframes using pandas"
   ]
  },
  {
   "cell_type": "code",
   "execution_count": 3,
   "metadata": {},
   "outputs": [],
   "source": [
    "satData = pd.read_excel(\"satisfaction.xlsx\")\n",
    "delayData = pd.read_csv(\"delays.csv\", dtype={\"ORIGIN_AIRPORT\": \"string\", \"DESTINATION_AIRPORT\": \"string\"})"
   ]
  },
  {
   "cell_type": "markdown",
   "metadata": {},
   "source": [
    "Let's look at the details of the 'Satisfaction' dataset:"
   ]
  },
  {
   "cell_type": "code",
   "execution_count": 4,
   "metadata": {},
   "outputs": [
    {
     "name": "stdout",
     "output_type": "stream",
     "text": [
      "<class 'pandas.core.frame.DataFrame'>\n",
      "RangeIndex: 129880 entries, 0 to 129879\n",
      "Data columns (total 24 columns):\n",
      " #   Column                             Non-Null Count   Dtype  \n",
      "---  ------                             --------------   -----  \n",
      " 0   id                                 129880 non-null  int64  \n",
      " 1   satisfaction_v2                    129880 non-null  object \n",
      " 2   Gender                             129880 non-null  object \n",
      " 3   Customer Type                      129880 non-null  object \n",
      " 4   Age                                129880 non-null  int64  \n",
      " 5   Type of Travel                     129880 non-null  object \n",
      " 6   Class                              129880 non-null  object \n",
      " 7   Flight Distance                    129880 non-null  int64  \n",
      " 8   Seat comfort                       129880 non-null  int64  \n",
      " 9   Departure/Arrival time convenient  129880 non-null  int64  \n",
      " 10  Food and drink                     129880 non-null  int64  \n",
      " 11  Gate location                      129880 non-null  int64  \n",
      " 12  Inflight wifi service              129880 non-null  int64  \n",
      " 13  Inflight entertainment             129880 non-null  int64  \n",
      " 14  Online support                     129880 non-null  int64  \n",
      " 15  Ease of Online booking             129880 non-null  int64  \n",
      " 16  On-board service                   129880 non-null  int64  \n",
      " 17  Leg room service                   129880 non-null  int64  \n",
      " 18  Baggage handling                   129880 non-null  int64  \n",
      " 19  Checkin service                    129880 non-null  int64  \n",
      " 20  Cleanliness                        129880 non-null  int64  \n",
      " 21  Online boarding                    129880 non-null  int64  \n",
      " 22  Departure Delay in Minutes         129880 non-null  int64  \n",
      " 23  Arrival Delay in Minutes           129487 non-null  float64\n",
      "dtypes: float64(1), int64(18), object(5)\n",
      "memory usage: 23.8+ MB\n"
     ]
    }
   ],
   "source": [
    "satData.info()"
   ]
  },
  {
   "cell_type": "markdown",
   "metadata": {},
   "source": [
    "We don't need the first column, 'id', since this column will have no correlation to what we are trying to discover. "
   ]
  },
  {
   "cell_type": "code",
   "execution_count": 5,
   "metadata": {},
   "outputs": [],
   "source": [
    "#drop first column\n",
    "satData.drop(columns=satData.columns[0], axis=1, inplace=True)"
   ]
  },
  {
   "cell_type": "markdown",
   "metadata": {},
   "source": [
    "A bunch of the columns contain categorical data, for example, given as integers 0 through 5. These are listed as 'int64' types, but we really want the data to be of the type 'category' "
   ]
  },
  {
   "cell_type": "code",
   "execution_count": 6,
   "metadata": {},
   "outputs": [
    {
     "name": "stdout",
     "output_type": "stream",
     "text": [
      "<class 'pandas.core.frame.DataFrame'>\n",
      "RangeIndex: 129880 entries, 0 to 129879\n",
      "Data columns (total 23 columns):\n",
      " #   Column                             Non-Null Count   Dtype   \n",
      "---  ------                             --------------   -----   \n",
      " 0   satisfaction_v2                    129880 non-null  category\n",
      " 1   Gender                             129880 non-null  category\n",
      " 2   Customer Type                      129880 non-null  category\n",
      " 3   Age                                129880 non-null  int64   \n",
      " 4   Type of Travel                     129880 non-null  category\n",
      " 5   Class                              129880 non-null  category\n",
      " 6   Flight Distance                    129880 non-null  int64   \n",
      " 7   Seat comfort                       129880 non-null  category\n",
      " 8   Departure/Arrival time convenient  129880 non-null  category\n",
      " 9   Food and drink                     129880 non-null  category\n",
      " 10  Gate location                      129880 non-null  category\n",
      " 11  Inflight wifi service              129880 non-null  category\n",
      " 12  Inflight entertainment             129880 non-null  category\n",
      " 13  Online support                     129880 non-null  category\n",
      " 14  Ease of Online booking             129880 non-null  category\n",
      " 15  On-board service                   129880 non-null  category\n",
      " 16  Leg room service                   129880 non-null  category\n",
      " 17  Baggage handling                   129880 non-null  category\n",
      " 18  Checkin service                    129880 non-null  category\n",
      " 19  Cleanliness                        129880 non-null  category\n",
      " 20  Online boarding                    129880 non-null  category\n",
      " 21  Departure Delay in Minutes         129880 non-null  int64   \n",
      " 22  Arrival Delay in Minutes           129487 non-null  float64 \n",
      "dtypes: category(19), float64(1), int64(3)\n",
      "memory usage: 6.3 MB\n"
     ]
    },
    {
     "name": "stderr",
     "output_type": "stream",
     "text": [
      "/var/folders/rj/3yctx96n3v327_w38flyx02h0000gn/T/ipykernel_73606/605986568.py:2: DeprecationWarning: In a future version, `df.iloc[:, i] = newvals` will attempt to set the values inplace instead of always setting a new array. To retain the old behavior, use either `df[df.columns[i]] = newvals` or, if columns are non-unique, `df.isetitem(i, newvals)`\n",
      "  satData.iloc[:,toCategory] = satData.iloc[:,toCategory].astype('category')\n"
     ]
    }
   ],
   "source": [
    "toCategory = [0, 1, 2, 4, 5] + list(range(7, 21))\n",
    "satData.iloc[:,toCategory] = satData.iloc[:,toCategory].astype('category')\n",
    "satData.info()"
   ]
  },
  {
   "cell_type": "code",
   "execution_count": 7,
   "metadata": {},
   "outputs": [
    {
     "data": {
      "text/html": [
       "<div>\n",
       "<style scoped>\n",
       "    .dataframe tbody tr th:only-of-type {\n",
       "        vertical-align: middle;\n",
       "    }\n",
       "\n",
       "    .dataframe tbody tr th {\n",
       "        vertical-align: top;\n",
       "    }\n",
       "\n",
       "    .dataframe thead th {\n",
       "        text-align: right;\n",
       "    }\n",
       "</style>\n",
       "<table border=\"1\" class=\"dataframe\">\n",
       "  <thead>\n",
       "    <tr style=\"text-align: right;\">\n",
       "      <th></th>\n",
       "      <th>satisfaction_v2</th>\n",
       "      <th>Gender</th>\n",
       "      <th>Customer Type</th>\n",
       "      <th>Age</th>\n",
       "      <th>Type of Travel</th>\n",
       "      <th>Class</th>\n",
       "      <th>Flight Distance</th>\n",
       "      <th>Seat comfort</th>\n",
       "      <th>Departure/Arrival time convenient</th>\n",
       "      <th>Food and drink</th>\n",
       "      <th>...</th>\n",
       "      <th>Online support</th>\n",
       "      <th>Ease of Online booking</th>\n",
       "      <th>On-board service</th>\n",
       "      <th>Leg room service</th>\n",
       "      <th>Baggage handling</th>\n",
       "      <th>Checkin service</th>\n",
       "      <th>Cleanliness</th>\n",
       "      <th>Online boarding</th>\n",
       "      <th>Departure Delay in Minutes</th>\n",
       "      <th>Arrival Delay in Minutes</th>\n",
       "    </tr>\n",
       "  </thead>\n",
       "  <tbody>\n",
       "    <tr>\n",
       "      <th>0</th>\n",
       "      <td>satisfied</td>\n",
       "      <td>Female</td>\n",
       "      <td>Loyal Customer</td>\n",
       "      <td>65</td>\n",
       "      <td>Personal Travel</td>\n",
       "      <td>Eco</td>\n",
       "      <td>265</td>\n",
       "      <td>0</td>\n",
       "      <td>0</td>\n",
       "      <td>0</td>\n",
       "      <td>...</td>\n",
       "      <td>2</td>\n",
       "      <td>3</td>\n",
       "      <td>3</td>\n",
       "      <td>0</td>\n",
       "      <td>3</td>\n",
       "      <td>5</td>\n",
       "      <td>3</td>\n",
       "      <td>2</td>\n",
       "      <td>0</td>\n",
       "      <td>0.0</td>\n",
       "    </tr>\n",
       "    <tr>\n",
       "      <th>1</th>\n",
       "      <td>satisfied</td>\n",
       "      <td>Male</td>\n",
       "      <td>Loyal Customer</td>\n",
       "      <td>47</td>\n",
       "      <td>Personal Travel</td>\n",
       "      <td>Business</td>\n",
       "      <td>2464</td>\n",
       "      <td>0</td>\n",
       "      <td>0</td>\n",
       "      <td>0</td>\n",
       "      <td>...</td>\n",
       "      <td>2</td>\n",
       "      <td>3</td>\n",
       "      <td>4</td>\n",
       "      <td>4</td>\n",
       "      <td>4</td>\n",
       "      <td>2</td>\n",
       "      <td>3</td>\n",
       "      <td>2</td>\n",
       "      <td>310</td>\n",
       "      <td>305.0</td>\n",
       "    </tr>\n",
       "    <tr>\n",
       "      <th>2</th>\n",
       "      <td>satisfied</td>\n",
       "      <td>Female</td>\n",
       "      <td>Loyal Customer</td>\n",
       "      <td>15</td>\n",
       "      <td>Personal Travel</td>\n",
       "      <td>Eco</td>\n",
       "      <td>2138</td>\n",
       "      <td>0</td>\n",
       "      <td>0</td>\n",
       "      <td>0</td>\n",
       "      <td>...</td>\n",
       "      <td>2</td>\n",
       "      <td>2</td>\n",
       "      <td>3</td>\n",
       "      <td>3</td>\n",
       "      <td>4</td>\n",
       "      <td>4</td>\n",
       "      <td>4</td>\n",
       "      <td>2</td>\n",
       "      <td>0</td>\n",
       "      <td>0.0</td>\n",
       "    </tr>\n",
       "    <tr>\n",
       "      <th>3</th>\n",
       "      <td>satisfied</td>\n",
       "      <td>Female</td>\n",
       "      <td>Loyal Customer</td>\n",
       "      <td>60</td>\n",
       "      <td>Personal Travel</td>\n",
       "      <td>Eco</td>\n",
       "      <td>623</td>\n",
       "      <td>0</td>\n",
       "      <td>0</td>\n",
       "      <td>0</td>\n",
       "      <td>...</td>\n",
       "      <td>3</td>\n",
       "      <td>1</td>\n",
       "      <td>1</td>\n",
       "      <td>0</td>\n",
       "      <td>1</td>\n",
       "      <td>4</td>\n",
       "      <td>1</td>\n",
       "      <td>3</td>\n",
       "      <td>0</td>\n",
       "      <td>0.0</td>\n",
       "    </tr>\n",
       "    <tr>\n",
       "      <th>4</th>\n",
       "      <td>satisfied</td>\n",
       "      <td>Female</td>\n",
       "      <td>Loyal Customer</td>\n",
       "      <td>70</td>\n",
       "      <td>Personal Travel</td>\n",
       "      <td>Eco</td>\n",
       "      <td>354</td>\n",
       "      <td>0</td>\n",
       "      <td>0</td>\n",
       "      <td>0</td>\n",
       "      <td>...</td>\n",
       "      <td>4</td>\n",
       "      <td>2</td>\n",
       "      <td>2</td>\n",
       "      <td>0</td>\n",
       "      <td>2</td>\n",
       "      <td>4</td>\n",
       "      <td>2</td>\n",
       "      <td>5</td>\n",
       "      <td>0</td>\n",
       "      <td>0.0</td>\n",
       "    </tr>\n",
       "    <tr>\n",
       "      <th>...</th>\n",
       "      <td>...</td>\n",
       "      <td>...</td>\n",
       "      <td>...</td>\n",
       "      <td>...</td>\n",
       "      <td>...</td>\n",
       "      <td>...</td>\n",
       "      <td>...</td>\n",
       "      <td>...</td>\n",
       "      <td>...</td>\n",
       "      <td>...</td>\n",
       "      <td>...</td>\n",
       "      <td>...</td>\n",
       "      <td>...</td>\n",
       "      <td>...</td>\n",
       "      <td>...</td>\n",
       "      <td>...</td>\n",
       "      <td>...</td>\n",
       "      <td>...</td>\n",
       "      <td>...</td>\n",
       "      <td>...</td>\n",
       "      <td>...</td>\n",
       "    </tr>\n",
       "    <tr>\n",
       "      <th>129875</th>\n",
       "      <td>satisfied</td>\n",
       "      <td>Female</td>\n",
       "      <td>disloyal Customer</td>\n",
       "      <td>29</td>\n",
       "      <td>Personal Travel</td>\n",
       "      <td>Eco</td>\n",
       "      <td>1731</td>\n",
       "      <td>5</td>\n",
       "      <td>5</td>\n",
       "      <td>5</td>\n",
       "      <td>...</td>\n",
       "      <td>2</td>\n",
       "      <td>2</td>\n",
       "      <td>3</td>\n",
       "      <td>3</td>\n",
       "      <td>4</td>\n",
       "      <td>4</td>\n",
       "      <td>4</td>\n",
       "      <td>2</td>\n",
       "      <td>0</td>\n",
       "      <td>0.0</td>\n",
       "    </tr>\n",
       "    <tr>\n",
       "      <th>129876</th>\n",
       "      <td>neutral or dissatisfied</td>\n",
       "      <td>Male</td>\n",
       "      <td>disloyal Customer</td>\n",
       "      <td>63</td>\n",
       "      <td>Personal Travel</td>\n",
       "      <td>Business</td>\n",
       "      <td>2087</td>\n",
       "      <td>2</td>\n",
       "      <td>3</td>\n",
       "      <td>2</td>\n",
       "      <td>...</td>\n",
       "      <td>1</td>\n",
       "      <td>3</td>\n",
       "      <td>2</td>\n",
       "      <td>3</td>\n",
       "      <td>3</td>\n",
       "      <td>1</td>\n",
       "      <td>2</td>\n",
       "      <td>1</td>\n",
       "      <td>174</td>\n",
       "      <td>172.0</td>\n",
       "    </tr>\n",
       "    <tr>\n",
       "      <th>129877</th>\n",
       "      <td>neutral or dissatisfied</td>\n",
       "      <td>Male</td>\n",
       "      <td>disloyal Customer</td>\n",
       "      <td>69</td>\n",
       "      <td>Personal Travel</td>\n",
       "      <td>Eco</td>\n",
       "      <td>2320</td>\n",
       "      <td>3</td>\n",
       "      <td>0</td>\n",
       "      <td>3</td>\n",
       "      <td>...</td>\n",
       "      <td>2</td>\n",
       "      <td>4</td>\n",
       "      <td>4</td>\n",
       "      <td>3</td>\n",
       "      <td>4</td>\n",
       "      <td>2</td>\n",
       "      <td>3</td>\n",
       "      <td>2</td>\n",
       "      <td>155</td>\n",
       "      <td>163.0</td>\n",
       "    </tr>\n",
       "    <tr>\n",
       "      <th>129878</th>\n",
       "      <td>neutral or dissatisfied</td>\n",
       "      <td>Male</td>\n",
       "      <td>disloyal Customer</td>\n",
       "      <td>66</td>\n",
       "      <td>Personal Travel</td>\n",
       "      <td>Eco</td>\n",
       "      <td>2450</td>\n",
       "      <td>3</td>\n",
       "      <td>2</td>\n",
       "      <td>3</td>\n",
       "      <td>...</td>\n",
       "      <td>2</td>\n",
       "      <td>3</td>\n",
       "      <td>3</td>\n",
       "      <td>2</td>\n",
       "      <td>3</td>\n",
       "      <td>2</td>\n",
       "      <td>1</td>\n",
       "      <td>2</td>\n",
       "      <td>193</td>\n",
       "      <td>205.0</td>\n",
       "    </tr>\n",
       "    <tr>\n",
       "      <th>129879</th>\n",
       "      <td>neutral or dissatisfied</td>\n",
       "      <td>Female</td>\n",
       "      <td>disloyal Customer</td>\n",
       "      <td>38</td>\n",
       "      <td>Personal Travel</td>\n",
       "      <td>Eco</td>\n",
       "      <td>4307</td>\n",
       "      <td>3</td>\n",
       "      <td>4</td>\n",
       "      <td>3</td>\n",
       "      <td>...</td>\n",
       "      <td>3</td>\n",
       "      <td>4</td>\n",
       "      <td>5</td>\n",
       "      <td>5</td>\n",
       "      <td>5</td>\n",
       "      <td>3</td>\n",
       "      <td>3</td>\n",
       "      <td>3</td>\n",
       "      <td>185</td>\n",
       "      <td>186.0</td>\n",
       "    </tr>\n",
       "  </tbody>\n",
       "</table>\n",
       "<p>129880 rows × 23 columns</p>\n",
       "</div>"
      ],
      "text/plain": [
       "                satisfaction_v2  Gender      Customer Type  Age  \\\n",
       "0                     satisfied  Female     Loyal Customer   65   \n",
       "1                     satisfied    Male     Loyal Customer   47   \n",
       "2                     satisfied  Female     Loyal Customer   15   \n",
       "3                     satisfied  Female     Loyal Customer   60   \n",
       "4                     satisfied  Female     Loyal Customer   70   \n",
       "...                         ...     ...                ...  ...   \n",
       "129875                satisfied  Female  disloyal Customer   29   \n",
       "129876  neutral or dissatisfied    Male  disloyal Customer   63   \n",
       "129877  neutral or dissatisfied    Male  disloyal Customer   69   \n",
       "129878  neutral or dissatisfied    Male  disloyal Customer   66   \n",
       "129879  neutral or dissatisfied  Female  disloyal Customer   38   \n",
       "\n",
       "         Type of Travel     Class  Flight Distance Seat comfort  \\\n",
       "0       Personal Travel       Eco              265            0   \n",
       "1       Personal Travel  Business             2464            0   \n",
       "2       Personal Travel       Eco             2138            0   \n",
       "3       Personal Travel       Eco              623            0   \n",
       "4       Personal Travel       Eco              354            0   \n",
       "...                 ...       ...              ...          ...   \n",
       "129875  Personal Travel       Eco             1731            5   \n",
       "129876  Personal Travel  Business             2087            2   \n",
       "129877  Personal Travel       Eco             2320            3   \n",
       "129878  Personal Travel       Eco             2450            3   \n",
       "129879  Personal Travel       Eco             4307            3   \n",
       "\n",
       "       Departure/Arrival time convenient Food and drink  ... Online support  \\\n",
       "0                                      0              0  ...              2   \n",
       "1                                      0              0  ...              2   \n",
       "2                                      0              0  ...              2   \n",
       "3                                      0              0  ...              3   \n",
       "4                                      0              0  ...              4   \n",
       "...                                  ...            ...  ...            ...   \n",
       "129875                                 5              5  ...              2   \n",
       "129876                                 3              2  ...              1   \n",
       "129877                                 0              3  ...              2   \n",
       "129878                                 2              3  ...              2   \n",
       "129879                                 4              3  ...              3   \n",
       "\n",
       "       Ease of Online booking On-board service Leg room service  \\\n",
       "0                           3                3                0   \n",
       "1                           3                4                4   \n",
       "2                           2                3                3   \n",
       "3                           1                1                0   \n",
       "4                           2                2                0   \n",
       "...                       ...              ...              ...   \n",
       "129875                      2                3                3   \n",
       "129876                      3                2                3   \n",
       "129877                      4                4                3   \n",
       "129878                      3                3                2   \n",
       "129879                      4                5                5   \n",
       "\n",
       "       Baggage handling Checkin service Cleanliness Online boarding  \\\n",
       "0                     3               5           3               2   \n",
       "1                     4               2           3               2   \n",
       "2                     4               4           4               2   \n",
       "3                     1               4           1               3   \n",
       "4                     2               4           2               5   \n",
       "...                 ...             ...         ...             ...   \n",
       "129875                4               4           4               2   \n",
       "129876                3               1           2               1   \n",
       "129877                4               2           3               2   \n",
       "129878                3               2           1               2   \n",
       "129879                5               3           3               3   \n",
       "\n",
       "       Departure Delay in Minutes Arrival Delay in Minutes  \n",
       "0                               0                      0.0  \n",
       "1                             310                    305.0  \n",
       "2                               0                      0.0  \n",
       "3                               0                      0.0  \n",
       "4                               0                      0.0  \n",
       "...                           ...                      ...  \n",
       "129875                          0                      0.0  \n",
       "129876                        174                    172.0  \n",
       "129877                        155                    163.0  \n",
       "129878                        193                    205.0  \n",
       "129879                        185                    186.0  \n",
       "\n",
       "[129880 rows x 23 columns]"
      ]
     },
     "execution_count": 7,
     "metadata": {},
     "output_type": "execute_result"
    }
   ],
   "source": [
    "satData"
   ]
  },
  {
   "cell_type": "markdown",
   "metadata": {},
   "source": [
    "We've cleaned up the data to eliminate unnecessary columns and change any incorrect datatypes to more accurate ones. \n",
    "Now we look at the delayData info. "
   ]
  },
  {
   "cell_type": "code",
   "execution_count": 8,
   "metadata": {},
   "outputs": [
    {
     "name": "stdout",
     "output_type": "stream",
     "text": [
      "<class 'pandas.core.frame.DataFrame'>\n",
      "RangeIndex: 5819079 entries, 0 to 5819078\n",
      "Data columns (total 31 columns):\n",
      " #   Column               Dtype  \n",
      "---  ------               -----  \n",
      " 0   YEAR                 int64  \n",
      " 1   MONTH                int64  \n",
      " 2   DAY                  int64  \n",
      " 3   DAY_OF_WEEK          int64  \n",
      " 4   AIRLINE              object \n",
      " 5   FLIGHT_NUMBER        int64  \n",
      " 6   TAIL_NUMBER          object \n",
      " 7   ORIGIN_AIRPORT       string \n",
      " 8   DESTINATION_AIRPORT  string \n",
      " 9   SCHEDULED_DEPARTURE  int64  \n",
      " 10  DEPARTURE_TIME       float64\n",
      " 11  DEPARTURE_DELAY      float64\n",
      " 12  TAXI_OUT             float64\n",
      " 13  WHEELS_OFF           float64\n",
      " 14  SCHEDULED_TIME       float64\n",
      " 15  ELAPSED_TIME         float64\n",
      " 16  AIR_TIME             float64\n",
      " 17  DISTANCE             int64  \n",
      " 18  WHEELS_ON            float64\n",
      " 19  TAXI_IN              float64\n",
      " 20  SCHEDULED_ARRIVAL    int64  \n",
      " 21  ARRIVAL_TIME         float64\n",
      " 22  ARRIVAL_DELAY        float64\n",
      " 23  DIVERTED             int64  \n",
      " 24  CANCELLED            int64  \n",
      " 25  CANCELLATION_REASON  object \n",
      " 26  AIR_SYSTEM_DELAY     float64\n",
      " 27  SECURITY_DELAY       float64\n",
      " 28  AIRLINE_DELAY        float64\n",
      " 29  LATE_AIRCRAFT_DELAY  float64\n",
      " 30  WEATHER_DELAY        float64\n",
      "dtypes: float64(16), int64(10), object(3), string(2)\n",
      "memory usage: 1.3+ GB\n"
     ]
    }
   ],
   "source": [
    "delayData.info()"
   ]
  },
  {
   "cell_type": "markdown",
   "metadata": {},
   "source": [
    "We don't need most of these columns. We only need the ones pertaining to delays. "
   ]
  },
  {
   "cell_type": "code",
   "execution_count": 9,
   "metadata": {},
   "outputs": [],
   "source": [
    "delayData.drop(columns=delayData.columns[0:11], axis=1, inplace=True)\n",
    "delayData.drop(columns=delayData.columns[1:11], axis=1, inplace=True)\n",
    "delayData.drop(columns=delayData.columns[2:5], axis=1, inplace=True)"
   ]
  },
  {
   "cell_type": "markdown",
   "metadata": {},
   "source": [
    "We also want to remove any observations where the departure delays and arrival delays are both negative or 0. This likely indicates that the flight departed and arrived early or on-time.\n",
    "\n",
    "We'll also delete observations where all the contributing factors for delays are NaN."
   ]
  },
  {
   "cell_type": "code",
   "execution_count": 10,
   "metadata": {},
   "outputs": [],
   "source": [
    "delayData = delayData.drop(delayData.index[(delayData['DEPARTURE_DELAY'] <= 0) & (delayData['ARRIVAL_DELAY'] <= 0)])\n",
    "delayData = delayData.dropna(subset=['AIR_SYSTEM_DELAY', 'SECURITY_DELAY', 'AIRLINE_DELAY', 'LATE_AIRCRAFT_DELAY', 'WEATHER_DELAY'])"
   ]
  },
  {
   "cell_type": "code",
   "execution_count": 11,
   "metadata": {},
   "outputs": [
    {
     "name": "stdout",
     "output_type": "stream",
     "text": [
      "<class 'pandas.core.frame.DataFrame'>\n",
      "Int64Index: 1063439 entries, 27 to 5819071\n",
      "Data columns (total 7 columns):\n",
      " #   Column               Non-Null Count    Dtype  \n",
      "---  ------               --------------    -----  \n",
      " 0   DEPARTURE_DELAY      1063439 non-null  float64\n",
      " 1   ARRIVAL_DELAY        1063439 non-null  float64\n",
      " 2   AIR_SYSTEM_DELAY     1063439 non-null  float64\n",
      " 3   SECURITY_DELAY       1063439 non-null  float64\n",
      " 4   AIRLINE_DELAY        1063439 non-null  float64\n",
      " 5   LATE_AIRCRAFT_DELAY  1063439 non-null  float64\n",
      " 6   WEATHER_DELAY        1063439 non-null  float64\n",
      "dtypes: float64(7)\n",
      "memory usage: 64.9 MB\n"
     ]
    }
   ],
   "source": [
    "delayData.info()"
   ]
  },
  {
   "cell_type": "code",
   "execution_count": 12,
   "metadata": {},
   "outputs": [
    {
     "data": {
      "text/html": [
       "<div>\n",
       "<style scoped>\n",
       "    .dataframe tbody tr th:only-of-type {\n",
       "        vertical-align: middle;\n",
       "    }\n",
       "\n",
       "    .dataframe tbody tr th {\n",
       "        vertical-align: top;\n",
       "    }\n",
       "\n",
       "    .dataframe thead th {\n",
       "        text-align: right;\n",
       "    }\n",
       "</style>\n",
       "<table border=\"1\" class=\"dataframe\">\n",
       "  <thead>\n",
       "    <tr style=\"text-align: right;\">\n",
       "      <th></th>\n",
       "      <th>DEPARTURE_DELAY</th>\n",
       "      <th>ARRIVAL_DELAY</th>\n",
       "      <th>AIR_SYSTEM_DELAY</th>\n",
       "      <th>SECURITY_DELAY</th>\n",
       "      <th>AIRLINE_DELAY</th>\n",
       "      <th>LATE_AIRCRAFT_DELAY</th>\n",
       "      <th>WEATHER_DELAY</th>\n",
       "    </tr>\n",
       "  </thead>\n",
       "  <tbody>\n",
       "    <tr>\n",
       "      <th>27</th>\n",
       "      <td>12.0</td>\n",
       "      <td>25.0</td>\n",
       "      <td>25.0</td>\n",
       "      <td>0.0</td>\n",
       "      <td>0.0</td>\n",
       "      <td>0.0</td>\n",
       "      <td>0.0</td>\n",
       "    </tr>\n",
       "    <tr>\n",
       "      <th>30</th>\n",
       "      <td>72.0</td>\n",
       "      <td>43.0</td>\n",
       "      <td>43.0</td>\n",
       "      <td>0.0</td>\n",
       "      <td>0.0</td>\n",
       "      <td>0.0</td>\n",
       "      <td>0.0</td>\n",
       "    </tr>\n",
       "    <tr>\n",
       "      <th>35</th>\n",
       "      <td>0.0</td>\n",
       "      <td>15.0</td>\n",
       "      <td>0.0</td>\n",
       "      <td>0.0</td>\n",
       "      <td>15.0</td>\n",
       "      <td>0.0</td>\n",
       "      <td>0.0</td>\n",
       "    </tr>\n",
       "    <tr>\n",
       "      <th>50</th>\n",
       "      <td>-3.0</td>\n",
       "      <td>20.0</td>\n",
       "      <td>20.0</td>\n",
       "      <td>0.0</td>\n",
       "      <td>0.0</td>\n",
       "      <td>0.0</td>\n",
       "      <td>0.0</td>\n",
       "    </tr>\n",
       "    <tr>\n",
       "      <th>52</th>\n",
       "      <td>95.0</td>\n",
       "      <td>85.0</td>\n",
       "      <td>0.0</td>\n",
       "      <td>0.0</td>\n",
       "      <td>85.0</td>\n",
       "      <td>0.0</td>\n",
       "      <td>0.0</td>\n",
       "    </tr>\n",
       "    <tr>\n",
       "      <th>...</th>\n",
       "      <td>...</td>\n",
       "      <td>...</td>\n",
       "      <td>...</td>\n",
       "      <td>...</td>\n",
       "      <td>...</td>\n",
       "      <td>...</td>\n",
       "      <td>...</td>\n",
       "    </tr>\n",
       "    <tr>\n",
       "      <th>5819023</th>\n",
       "      <td>21.0</td>\n",
       "      <td>20.0</td>\n",
       "      <td>0.0</td>\n",
       "      <td>0.0</td>\n",
       "      <td>17.0</td>\n",
       "      <td>3.0</td>\n",
       "      <td>0.0</td>\n",
       "    </tr>\n",
       "    <tr>\n",
       "      <th>5819051</th>\n",
       "      <td>16.0</td>\n",
       "      <td>28.0</td>\n",
       "      <td>12.0</td>\n",
       "      <td>0.0</td>\n",
       "      <td>16.0</td>\n",
       "      <td>0.0</td>\n",
       "      <td>0.0</td>\n",
       "    </tr>\n",
       "    <tr>\n",
       "      <th>5819057</th>\n",
       "      <td>13.0</td>\n",
       "      <td>28.0</td>\n",
       "      <td>15.0</td>\n",
       "      <td>0.0</td>\n",
       "      <td>13.0</td>\n",
       "      <td>0.0</td>\n",
       "      <td>0.0</td>\n",
       "    </tr>\n",
       "    <tr>\n",
       "      <th>5819069</th>\n",
       "      <td>159.0</td>\n",
       "      <td>159.0</td>\n",
       "      <td>0.0</td>\n",
       "      <td>0.0</td>\n",
       "      <td>159.0</td>\n",
       "      <td>0.0</td>\n",
       "      <td>0.0</td>\n",
       "    </tr>\n",
       "    <tr>\n",
       "      <th>5819071</th>\n",
       "      <td>16.0</td>\n",
       "      <td>17.0</td>\n",
       "      <td>1.0</td>\n",
       "      <td>0.0</td>\n",
       "      <td>16.0</td>\n",
       "      <td>0.0</td>\n",
       "      <td>0.0</td>\n",
       "    </tr>\n",
       "  </tbody>\n",
       "</table>\n",
       "<p>1063439 rows × 7 columns</p>\n",
       "</div>"
      ],
      "text/plain": [
       "         DEPARTURE_DELAY  ARRIVAL_DELAY  AIR_SYSTEM_DELAY  SECURITY_DELAY  \\\n",
       "27                  12.0           25.0              25.0             0.0   \n",
       "30                  72.0           43.0              43.0             0.0   \n",
       "35                   0.0           15.0               0.0             0.0   \n",
       "50                  -3.0           20.0              20.0             0.0   \n",
       "52                  95.0           85.0               0.0             0.0   \n",
       "...                  ...            ...               ...             ...   \n",
       "5819023             21.0           20.0               0.0             0.0   \n",
       "5819051             16.0           28.0              12.0             0.0   \n",
       "5819057             13.0           28.0              15.0             0.0   \n",
       "5819069            159.0          159.0               0.0             0.0   \n",
       "5819071             16.0           17.0               1.0             0.0   \n",
       "\n",
       "         AIRLINE_DELAY  LATE_AIRCRAFT_DELAY  WEATHER_DELAY  \n",
       "27                 0.0                  0.0            0.0  \n",
       "30                 0.0                  0.0            0.0  \n",
       "35                15.0                  0.0            0.0  \n",
       "50                 0.0                  0.0            0.0  \n",
       "52                85.0                  0.0            0.0  \n",
       "...                ...                  ...            ...  \n",
       "5819023           17.0                  3.0            0.0  \n",
       "5819051           16.0                  0.0            0.0  \n",
       "5819057           13.0                  0.0            0.0  \n",
       "5819069          159.0                  0.0            0.0  \n",
       "5819071           16.0                  0.0            0.0  \n",
       "\n",
       "[1063439 rows x 7 columns]"
      ]
     },
     "execution_count": 12,
     "metadata": {},
     "output_type": "execute_result"
    }
   ],
   "source": [
    "delayData"
   ]
  },
  {
   "cell_type": "markdown",
   "metadata": {},
   "source": [
    "# Data Analysis & Results (EDA)"
   ]
  },
  {
   "cell_type": "markdown",
   "metadata": {},
   "source": [
    "Carry out EDA on your dataset(s); Describe in this section"
   ]
  },
  {
   "cell_type": "markdown",
   "metadata": {},
   "source": [
    "Let's take a look at our satisfaction data again. "
   ]
  },
  {
   "cell_type": "code",
   "execution_count": 13,
   "metadata": {},
   "outputs": [
    {
     "data": {
      "text/html": [
       "<div>\n",
       "<style scoped>\n",
       "    .dataframe tbody tr th:only-of-type {\n",
       "        vertical-align: middle;\n",
       "    }\n",
       "\n",
       "    .dataframe tbody tr th {\n",
       "        vertical-align: top;\n",
       "    }\n",
       "\n",
       "    .dataframe thead th {\n",
       "        text-align: right;\n",
       "    }\n",
       "</style>\n",
       "<table border=\"1\" class=\"dataframe\">\n",
       "  <thead>\n",
       "    <tr style=\"text-align: right;\">\n",
       "      <th></th>\n",
       "      <th>satisfaction_v2</th>\n",
       "      <th>Gender</th>\n",
       "      <th>Customer Type</th>\n",
       "      <th>Age</th>\n",
       "      <th>Type of Travel</th>\n",
       "      <th>Class</th>\n",
       "      <th>Flight Distance</th>\n",
       "      <th>Seat comfort</th>\n",
       "      <th>Departure/Arrival time convenient</th>\n",
       "      <th>Food and drink</th>\n",
       "      <th>...</th>\n",
       "      <th>Online support</th>\n",
       "      <th>Ease of Online booking</th>\n",
       "      <th>On-board service</th>\n",
       "      <th>Leg room service</th>\n",
       "      <th>Baggage handling</th>\n",
       "      <th>Checkin service</th>\n",
       "      <th>Cleanliness</th>\n",
       "      <th>Online boarding</th>\n",
       "      <th>Departure Delay in Minutes</th>\n",
       "      <th>Arrival Delay in Minutes</th>\n",
       "    </tr>\n",
       "  </thead>\n",
       "  <tbody>\n",
       "    <tr>\n",
       "      <th>0</th>\n",
       "      <td>satisfied</td>\n",
       "      <td>Female</td>\n",
       "      <td>Loyal Customer</td>\n",
       "      <td>65</td>\n",
       "      <td>Personal Travel</td>\n",
       "      <td>Eco</td>\n",
       "      <td>265</td>\n",
       "      <td>0</td>\n",
       "      <td>0</td>\n",
       "      <td>0</td>\n",
       "      <td>...</td>\n",
       "      <td>2</td>\n",
       "      <td>3</td>\n",
       "      <td>3</td>\n",
       "      <td>0</td>\n",
       "      <td>3</td>\n",
       "      <td>5</td>\n",
       "      <td>3</td>\n",
       "      <td>2</td>\n",
       "      <td>0</td>\n",
       "      <td>0.0</td>\n",
       "    </tr>\n",
       "    <tr>\n",
       "      <th>1</th>\n",
       "      <td>satisfied</td>\n",
       "      <td>Male</td>\n",
       "      <td>Loyal Customer</td>\n",
       "      <td>47</td>\n",
       "      <td>Personal Travel</td>\n",
       "      <td>Business</td>\n",
       "      <td>2464</td>\n",
       "      <td>0</td>\n",
       "      <td>0</td>\n",
       "      <td>0</td>\n",
       "      <td>...</td>\n",
       "      <td>2</td>\n",
       "      <td>3</td>\n",
       "      <td>4</td>\n",
       "      <td>4</td>\n",
       "      <td>4</td>\n",
       "      <td>2</td>\n",
       "      <td>3</td>\n",
       "      <td>2</td>\n",
       "      <td>310</td>\n",
       "      <td>305.0</td>\n",
       "    </tr>\n",
       "    <tr>\n",
       "      <th>2</th>\n",
       "      <td>satisfied</td>\n",
       "      <td>Female</td>\n",
       "      <td>Loyal Customer</td>\n",
       "      <td>15</td>\n",
       "      <td>Personal Travel</td>\n",
       "      <td>Eco</td>\n",
       "      <td>2138</td>\n",
       "      <td>0</td>\n",
       "      <td>0</td>\n",
       "      <td>0</td>\n",
       "      <td>...</td>\n",
       "      <td>2</td>\n",
       "      <td>2</td>\n",
       "      <td>3</td>\n",
       "      <td>3</td>\n",
       "      <td>4</td>\n",
       "      <td>4</td>\n",
       "      <td>4</td>\n",
       "      <td>2</td>\n",
       "      <td>0</td>\n",
       "      <td>0.0</td>\n",
       "    </tr>\n",
       "    <tr>\n",
       "      <th>3</th>\n",
       "      <td>satisfied</td>\n",
       "      <td>Female</td>\n",
       "      <td>Loyal Customer</td>\n",
       "      <td>60</td>\n",
       "      <td>Personal Travel</td>\n",
       "      <td>Eco</td>\n",
       "      <td>623</td>\n",
       "      <td>0</td>\n",
       "      <td>0</td>\n",
       "      <td>0</td>\n",
       "      <td>...</td>\n",
       "      <td>3</td>\n",
       "      <td>1</td>\n",
       "      <td>1</td>\n",
       "      <td>0</td>\n",
       "      <td>1</td>\n",
       "      <td>4</td>\n",
       "      <td>1</td>\n",
       "      <td>3</td>\n",
       "      <td>0</td>\n",
       "      <td>0.0</td>\n",
       "    </tr>\n",
       "    <tr>\n",
       "      <th>4</th>\n",
       "      <td>satisfied</td>\n",
       "      <td>Female</td>\n",
       "      <td>Loyal Customer</td>\n",
       "      <td>70</td>\n",
       "      <td>Personal Travel</td>\n",
       "      <td>Eco</td>\n",
       "      <td>354</td>\n",
       "      <td>0</td>\n",
       "      <td>0</td>\n",
       "      <td>0</td>\n",
       "      <td>...</td>\n",
       "      <td>4</td>\n",
       "      <td>2</td>\n",
       "      <td>2</td>\n",
       "      <td>0</td>\n",
       "      <td>2</td>\n",
       "      <td>4</td>\n",
       "      <td>2</td>\n",
       "      <td>5</td>\n",
       "      <td>0</td>\n",
       "      <td>0.0</td>\n",
       "    </tr>\n",
       "  </tbody>\n",
       "</table>\n",
       "<p>5 rows × 23 columns</p>\n",
       "</div>"
      ],
      "text/plain": [
       "  satisfaction_v2  Gender   Customer Type  Age   Type of Travel     Class  \\\n",
       "0       satisfied  Female  Loyal Customer   65  Personal Travel       Eco   \n",
       "1       satisfied    Male  Loyal Customer   47  Personal Travel  Business   \n",
       "2       satisfied  Female  Loyal Customer   15  Personal Travel       Eco   \n",
       "3       satisfied  Female  Loyal Customer   60  Personal Travel       Eco   \n",
       "4       satisfied  Female  Loyal Customer   70  Personal Travel       Eco   \n",
       "\n",
       "   Flight Distance Seat comfort Departure/Arrival time convenient  \\\n",
       "0              265            0                                 0   \n",
       "1             2464            0                                 0   \n",
       "2             2138            0                                 0   \n",
       "3              623            0                                 0   \n",
       "4              354            0                                 0   \n",
       "\n",
       "  Food and drink  ... Online support Ease of Online booking On-board service  \\\n",
       "0              0  ...              2                      3                3   \n",
       "1              0  ...              2                      3                4   \n",
       "2              0  ...              2                      2                3   \n",
       "3              0  ...              3                      1                1   \n",
       "4              0  ...              4                      2                2   \n",
       "\n",
       "  Leg room service Baggage handling Checkin service Cleanliness  \\\n",
       "0                0                3               5           3   \n",
       "1                4                4               2           3   \n",
       "2                3                4               4           4   \n",
       "3                0                1               4           1   \n",
       "4                0                2               4           2   \n",
       "\n",
       "  Online boarding Departure Delay in Minutes Arrival Delay in Minutes  \n",
       "0               2                          0                      0.0  \n",
       "1               2                        310                    305.0  \n",
       "2               2                          0                      0.0  \n",
       "3               3                          0                      0.0  \n",
       "4               5                          0                      0.0  \n",
       "\n",
       "[5 rows x 23 columns]"
      ]
     },
     "execution_count": 13,
     "metadata": {},
     "output_type": "execute_result"
    }
   ],
   "source": [
    "satData.head()"
   ]
  },
  {
   "cell_type": "markdown",
   "metadata": {},
   "source": [
    "We see some of the data are strings, while others are numeric. The numeric ones are mostly categorical, with 0 being the worst and 5 being the best, while some other numeric data being continuous like in the delay columns. "
   ]
  },
  {
   "cell_type": "markdown",
   "metadata": {},
   "source": [
    "In the interest of being able to run a linear regression on this data, we want to convert some of the data to numeric values. "
   ]
  },
  {
   "cell_type": "code",
   "execution_count": 37,
   "metadata": {},
   "outputs": [],
   "source": [
    "satData['satisfaction_v2'] = satData['satisfaction_v2'].replace(['satisfied'], 1)\n",
    "satData['satisfaction_v2'] = satData['satisfaction_v2'].replace(['neutral or dissatisfied'], -1)\n",
    "\n",
    "satData['Class'] = satData['Class'].replace(['Eco'], 1)\n",
    "satData['Class'] = satData['Class'].replace(['Eco Plus'], 2)\n",
    "satData['Class'] = satData['Class'].replace(['Business'], 3)"
   ]
  },
  {
   "cell_type": "markdown",
   "metadata": {},
   "source": [
    "Now let's convert any of the NaN values in the 'Arrival Delay in Minutes' column to 0s"
   ]
  },
  {
   "cell_type": "code",
   "execution_count": 38,
   "metadata": {},
   "outputs": [
    {
     "data": {
      "text/plain": [
       "False"
      ]
     },
     "execution_count": 38,
     "metadata": {},
     "output_type": "execute_result"
    }
   ],
   "source": [
    "satData['Arrival Delay in Minutes'] = satData['Arrival Delay in Minutes'].fillna(0)\n",
    "satData.isnull().all().any()"
   ]
  },
  {
   "cell_type": "markdown",
   "metadata": {},
   "source": [
    "Now we will set our input and label variables (X and y) and set them to specific columns. Note that we will be leaving out some of the first few columns, since these are not metrics controllable by airlines. We want to focus on metrics that can be changed.  "
   ]
  },
  {
   "cell_type": "code",
   "execution_count": 39,
   "metadata": {},
   "outputs": [
    {
     "name": "stdout",
     "output_type": "stream",
     "text": [
      "                                   Coefficient\n",
      "Inflight entertainment                0.256515\n",
      "Class                                 0.164717\n",
      "Ease of Online booking                0.115223\n",
      "On-board service                      0.089483\n",
      "Seat comfort                          0.083163\n",
      "Leg room service                      0.073136\n",
      "Checkin service                       0.070313\n",
      "Online support                        0.043465\n",
      "Gate location                         0.028731\n",
      "Online boarding                       0.019905\n",
      "Baggage handling                      0.007207\n",
      "Departure Delay in Minutes            0.000549\n",
      "Flight Distance                      -0.000032\n",
      "Arrival Delay in Minutes             -0.001761\n",
      "Cleanliness                          -0.002692\n",
      "Inflight wifi service                -0.031645\n",
      "Departure/Arrival time convenient    -0.042889\n",
      "Food and drink                       -0.071620\n"
     ]
    }
   ],
   "source": [
    "X = satData.iloc[:, 5:] # Select the 5th column and after\n",
    "y = satData.iloc[:, 0] # Select only the first column\n",
    "lr = LinearRegression()\n",
    "lr.fit(X, y)\n",
    "\n",
    "coefficients = pd.DataFrame(lr.coef_, index=X.columns, columns=['Coefficient'])\n",
    "coefficients.sort_values(by='Coefficient', ascending=False, inplace=True)\n",
    "print(coefficients)"
   ]
  },
  {
   "cell_type": "markdown",
   "metadata": {},
   "source": [
    "The coefficients we just got tell us the relationship between each variable on the left and the label: satisfied or not satisfied (or -1 and +1 since we just changed it). This is an interesting result. As you saw with our initial research question, we expected flight delays to have a significant impact on the satisfaction rates of air travel. However our data shows that not only do the departure delays have a very insignificant positive correlation with satisfaction rate, but arrival delays have a very small negative correlation. As of now, the variable with the most correlation with satisfaction is inflight entertainment, followed by class and ease of online booking.  Let's take a deeper look at the data that is correlating and the data that isn't."
   ]
  },
  {
   "cell_type": "code",
   "execution_count": 33,
   "metadata": {},
   "outputs": [
    {
     "data": {
      "image/png": "[encoded data removed]",
      "text/plain": [
       "<Figure size 640x480 with 1 Axes>"
      ]
     },
     "metadata": {},
     "output_type": "display_data"
    }
   ],
   "source": [
    "entertainmentGroup = satData.groupby([\"Inflight entertainment\", \"satisfaction_v2\"]).size().reset_index(name=\"count\")\n",
    "entertainmentPivot = entertainmentGroup.pivot(index=\"Inflight entertainment\", columns=\"satisfaction_v2\", values=\"count\")\n",
    "entertainmentPivot.plot(kind=\"line\")\n",
    "plt.title(\"Satisfaction by Inflight Entertainment\")\n",
    "plt.xlabel(\"Inflight Entertainment\")\n",
    "plt.ylabel(\"Count\")\n",
    "plt.legend([\"Dissatisfied or Neutral\", \"Satisfied\"])\n",
    "plt.show()"
   ]
  },
  {
   "cell_type": "markdown",
   "metadata": {},
   "source": [
    "This graph shows us that people who had good inflight entertainment experiences (4 or 5) were more likely to say they were satisfied, whereas people who gave the inflight entertainment average ratingings (3) were more likely to say they were dissatsfied or neutral. "
   ]
  },
  {
   "cell_type": "markdown",
   "metadata": {},
   "source": [
    "Let's now look at the relationship between class and satisfaction."
   ]
  },
  {
   "cell_type": "code",
   "execution_count": 48,
   "metadata": {},
   "outputs": [
    {
     "data": {
      "image/png": "[encoded data removed]",
      "text/plain": [
       "<Figure size 640x480 with 1 Axes>"
      ]
     },
     "metadata": {},
     "output_type": "display_data"
    }
   ],
   "source": [
    "classGroup = satData.groupby([\"Class\", \"satisfaction_v2\"]).size().reset_index(name=\"count\")\n",
    "classPivot = classGroup.pivot(index=\"Class\", columns=\"satisfaction_v2\", values=\"count\")\n",
    "classPivot.plot(kind=\"bar\")\n",
    "plt.title(\"Satisfaction by Class\")\n",
    "plt.xlabel(\"Class\")\n",
    "plt.ylabel(\"Count\")\n",
    "bars = (\"Business\",\"Eco\",\"Eco Plus\")\n",
    "y_pos = np.arange(len(bars))\n",
    "plt.xticks(y_pos, bars, rotation=0)\n",
    "plt.legend([\"Dissatisfied or Neutral\",\"Satisfied\"])\n",
    "plt.show()"
   ]
  },
  {
   "cell_type": "markdown",
   "metadata": {},
   "source": [
    "It seems we see a trend that aligns with our linear regression results here as well. It shows that people in business class were more likely to be satisfied with the flying experience, and people in economy class were more likely to be dissatisfied or neutral about it. "
   ]
  },
  {
   "cell_type": "markdown",
   "metadata": {},
   "source": [
    "Now let's look at the relationship between delays and satisfaction. Let's specifically look at departure delays, since those have a marginally positive correlation with satisfaction. We'll split the delay values into 60 minute intervals."
   ]
  },
  {
   "cell_type": "code",
   "execution_count": 58,
   "metadata": {},
   "outputs": [
    {
     "data": {
      "image/png": "[encoded data removed]",
      "text/plain": [
       "<Figure size 640x480 with 1 Axes>"
      ]
     },
     "metadata": {},
     "output_type": "display_data"
    }
   ],
   "source": [
    "delay_intervals = pd.cut(satData['Departure Delay in Minutes'], bins=range(0, satData['Departure Delay in Minutes'].max() + 60, 60), include_lowest=True)\n",
    "count_df = satData.groupby(delay_intervals)['satisfaction_v2'].value_counts().unstack().fillna(0)\n",
    "count_df = count_df[count_df.sum(axis=1) > 0]\n",
    "count_df.plot(kind='bar')\n",
    "plt.legend([\"Dissatisfied or Neutral\",\"Satisfied\"])\n",
    "plt.show()"
   ]
  },
  {
   "cell_type": "markdown",
   "metadata": {},
   "source": [
    "It seems most of the data is bunched to the 0-60 minute interval. Let's zoom in and change the scale of the x-axis to get a better understanding of what our values are. "
   ]
  },
  {
   "cell_type": "code",
   "execution_count": 98,
   "metadata": {},
   "outputs": [
    {
     "data": {
      "image/png": "[encoded data removed]",
      "text/plain": [
       "<Figure size 640x480 with 1 Axes>"
      ]
     },
     "metadata": {},
     "output_type": "display_data"
    }
   ],
   "source": [
    "under120 = satData[satData['Departure Delay in Minutes'] <= 120]\n",
    "delay_intervals = pd.cut(under120['Departure Delay in Minutes'], bins=range(0, under120['Departure Delay in Minutes'].max() + 5, 5), include_lowest=True)\n",
    "count_df = under120.groupby(delay_intervals)['satisfaction_v2'].value_counts().unstack().fillna(0)\n",
    "count_df = count_df[count_df.sum(axis=1) > 0]\n",
    "count_df.plot(kind='bar')\n",
    "plt.legend([\"Dissatisfied or Neutral\",\"Satisfied\"])\n",
    "plt.show()"
   ]
  },
  {
   "cell_type": "markdown",
   "metadata": {},
   "source": [
    "Let's see what is our most prevalent delay value."
   ]
  },
  {
   "cell_type": "code",
   "execution_count": 111,
   "metadata": {},
   "outputs": [
    {
     "name": "stdout",
     "output_type": "stream",
     "text": [
      "0      73356\n",
      "1       3682\n",
      "2       2855\n",
      "3       2535\n",
      "4       2309\n",
      "       ...  \n",
      "366        1\n",
      "569        1\n",
      "419        1\n",
      "411        1\n",
      "320        1\n",
      "Name: Departure Delay in Minutes, Length: 466, dtype: int64\n"
     ]
    }
   ],
   "source": [
    "valCounts = satData['Departure Delay in Minutes'].value_counts()\n",
    "print(valCounts)"
   ]
  },
  {
   "cell_type": "markdown",
   "metadata": {},
   "source": [
    "It seems that 0 is our most common delay value. Let's see what percentage of these flights had 0 departure delay. "
   ]
  },
  {
   "cell_type": "code",
   "execution_count": 112,
   "metadata": {},
   "outputs": [
    {
     "name": "stdout",
     "output_type": "stream",
     "text": [
      "0.5647982753310749\n"
     ]
    }
   ],
   "source": [
    "percent0 = valCounts[0]/len(satData['Departure Delay in Minutes'])\n",
    "print(percent0) "
   ]
  },
  {
   "cell_type": "markdown",
   "metadata": {},
   "source": [
    "So it appears 56.48% our data is comprised of flights with no delay. This is unfortunate because it is hard to make an informed inference on how much the delay affects airline satisfaction, when most flights in this dataset seem to have 0 delay.  "
   ]
  },
  {
   "cell_type": "markdown",
   "metadata": {},
   "source": [
    "We can still see what factors tend to cause delays the most. We will analyze the columns containing delay reasons."
   ]
  },
  {
   "cell_type": "code",
   "execution_count": 155,
   "metadata": {},
   "outputs": [
    {
     "name": "stdout",
     "output_type": "stream",
     "text": [
      "AIR_SYSTEM_DELAY       0.228816\n",
      "SECURITY_DELAY         0.001293\n",
      "AIRLINE_DELAY          0.321985\n",
      "LATE_AIRCRAFT_DELAY    0.398423\n",
      "WEATHER_DELAY          0.049483\n",
      "dtype: float64\n"
     ]
    }
   ],
   "source": [
    "cols = ['AIR_SYSTEM_DELAY', 'SECURITY_DELAY', 'AIRLINE_DELAY', 'LATE_AIRCRAFT_DELAY', 'WEATHER_DELAY']\n",
    "delayTotals = delayData[cols].sum()\n",
    "sumDelay = sum(delayTotals)\n",
    "print(delayTotals/sumDelay)"
   ]
  },
  {
   "cell_type": "markdown",
   "metadata": {},
   "source": [
    "Here we see that the biggest factor in flight delays are aircraft being late, with no further explanation given. This is followed by delays within the airline, and that is followed by issues with the air system. "
   ]
  }
 ],
 "metadata": {
  "kernelspec": {
   "display_name": "Python 3 (ipykernel)",
   "language": "python",
   "name": "python3"
  },
  "language_info": {
   "codemirror_mode": {
    "name": "ipython",
    "version": 3
   },
   "file_extension": ".py",
   "mimetype": "text/x-python",
   "name": "python",
   "nbconvert_exporter": "python",
   "pygments_lexer": "ipython3",
   "version": "3.8.5"
  }
 },
 "nbformat": 4,
 "nbformat_minor": 2
}
